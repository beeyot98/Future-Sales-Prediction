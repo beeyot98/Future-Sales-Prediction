{
 "cells": [
  {
   "cell_type": "markdown",
   "id": "4eb60875",
   "metadata": {},
   "source": [
    "# Import Modules\n"
   ]
  },
  {
   "cell_type": "code",
   "execution_count": 1,
   "id": "fc426ce9",
   "metadata": {},
   "outputs": [],
   "source": [
    "import pandas as pd\n",
    "import numpy as np\n",
    "import matplotlib.pyplot as plt\n",
    "import seaborn as sns\n",
    "from datetime import date, datetime\n",
    "\n",
    "from sklearn.preprocessing import LabelEncoder"
   ]
  },
  {
   "cell_type": "markdown",
   "id": "a9283fc6",
   "metadata": {},
   "source": [
    "# Load Data"
   ]
  },
  {
   "cell_type": "code",
   "execution_count": 2,
   "id": "60216d57",
   "metadata": {},
   "outputs": [],
   "source": [
    "item_cat = pd.read_csv('competitive-data-science-predict-future-sales/item_categories.csv')\n",
    "items = pd.read_csv('competitive-data-science-predict-future-sales/items.csv')\n",
    "sales_train = pd.read_csv('competitive-data-science-predict-future-sales/sales_train.csv')\n",
    "shops = pd.read_csv('competitive-data-science-predict-future-sales/shops.csv')\n",
    "test = pd.read_csv('competitive-data-science-predict-future-sales/test.csv')\n"
   ]
  },
  {
   "cell_type": "code",
   "execution_count": 3,
   "id": "75105c43",
   "metadata": {},
   "outputs": [
    {
     "data": {
      "text/html": [
       "<div>\n",
       "<style scoped>\n",
       "    .dataframe tbody tr th:only-of-type {\n",
       "        vertical-align: middle;\n",
       "    }\n",
       "\n",
       "    .dataframe tbody tr th {\n",
       "        vertical-align: top;\n",
       "    }\n",
       "\n",
       "    .dataframe thead th {\n",
       "        text-align: right;\n",
       "    }\n",
       "</style>\n",
       "<table border=\"1\" class=\"dataframe\">\n",
       "  <thead>\n",
       "    <tr style=\"text-align: right;\">\n",
       "      <th></th>\n",
       "      <th>item_category_name</th>\n",
       "      <th>item_category_id</th>\n",
       "    </tr>\n",
       "  </thead>\n",
       "  <tbody>\n",
       "    <tr>\n",
       "      <th>0</th>\n",
       "      <td>PC - Гарнитуры/Наушники</td>\n",
       "      <td>0</td>\n",
       "    </tr>\n",
       "    <tr>\n",
       "      <th>1</th>\n",
       "      <td>Аксессуары - PS2</td>\n",
       "      <td>1</td>\n",
       "    </tr>\n",
       "    <tr>\n",
       "      <th>2</th>\n",
       "      <td>Аксессуары - PS3</td>\n",
       "      <td>2</td>\n",
       "    </tr>\n",
       "    <tr>\n",
       "      <th>3</th>\n",
       "      <td>Аксессуары - PS4</td>\n",
       "      <td>3</td>\n",
       "    </tr>\n",
       "    <tr>\n",
       "      <th>4</th>\n",
       "      <td>Аксессуары - PSP</td>\n",
       "      <td>4</td>\n",
       "    </tr>\n",
       "  </tbody>\n",
       "</table>\n",
       "</div>"
      ],
      "text/plain": [
       "        item_category_name  item_category_id\n",
       "0  PC - Гарнитуры/Наушники                 0\n",
       "1         Аксессуары - PS2                 1\n",
       "2         Аксессуары - PS3                 2\n",
       "3         Аксессуары - PS4                 3\n",
       "4         Аксессуары - PSP                 4"
      ]
     },
     "execution_count": 3,
     "metadata": {},
     "output_type": "execute_result"
    }
   ],
   "source": [
    "item_cat.head()"
   ]
  },
  {
   "cell_type": "code",
   "execution_count": 4,
   "id": "387d459f",
   "metadata": {},
   "outputs": [
    {
     "data": {
      "text/html": [
       "<div>\n",
       "<style scoped>\n",
       "    .dataframe tbody tr th:only-of-type {\n",
       "        vertical-align: middle;\n",
       "    }\n",
       "\n",
       "    .dataframe tbody tr th {\n",
       "        vertical-align: top;\n",
       "    }\n",
       "\n",
       "    .dataframe thead th {\n",
       "        text-align: right;\n",
       "    }\n",
       "</style>\n",
       "<table border=\"1\" class=\"dataframe\">\n",
       "  <thead>\n",
       "    <tr style=\"text-align: right;\">\n",
       "      <th></th>\n",
       "      <th>item_name</th>\n",
       "      <th>item_id</th>\n",
       "      <th>item_category_id</th>\n",
       "    </tr>\n",
       "  </thead>\n",
       "  <tbody>\n",
       "    <tr>\n",
       "      <th>0</th>\n",
       "      <td>! ВО ВЛАСТИ НАВАЖДЕНИЯ (ПЛАСТ.)         D</td>\n",
       "      <td>0</td>\n",
       "      <td>40</td>\n",
       "    </tr>\n",
       "    <tr>\n",
       "      <th>1</th>\n",
       "      <td>!ABBYY FineReader 12 Professional Edition Full...</td>\n",
       "      <td>1</td>\n",
       "      <td>76</td>\n",
       "    </tr>\n",
       "    <tr>\n",
       "      <th>2</th>\n",
       "      <td>***В ЛУЧАХ СЛАВЫ   (UNV)                    D</td>\n",
       "      <td>2</td>\n",
       "      <td>40</td>\n",
       "    </tr>\n",
       "    <tr>\n",
       "      <th>3</th>\n",
       "      <td>***ГОЛУБАЯ ВОЛНА  (Univ)                      D</td>\n",
       "      <td>3</td>\n",
       "      <td>40</td>\n",
       "    </tr>\n",
       "    <tr>\n",
       "      <th>4</th>\n",
       "      <td>***КОРОБКА (СТЕКЛО)                       D</td>\n",
       "      <td>4</td>\n",
       "      <td>40</td>\n",
       "    </tr>\n",
       "  </tbody>\n",
       "</table>\n",
       "</div>"
      ],
      "text/plain": [
       "                                           item_name  item_id  \\\n",
       "0          ! ВО ВЛАСТИ НАВАЖДЕНИЯ (ПЛАСТ.)         D        0   \n",
       "1  !ABBYY FineReader 12 Professional Edition Full...        1   \n",
       "2      ***В ЛУЧАХ СЛАВЫ   (UNV)                    D        2   \n",
       "3    ***ГОЛУБАЯ ВОЛНА  (Univ)                      D        3   \n",
       "4        ***КОРОБКА (СТЕКЛО)                       D        4   \n",
       "\n",
       "   item_category_id  \n",
       "0                40  \n",
       "1                76  \n",
       "2                40  \n",
       "3                40  \n",
       "4                40  "
      ]
     },
     "execution_count": 4,
     "metadata": {},
     "output_type": "execute_result"
    }
   ],
   "source": [
    "items.head()"
   ]
  },
  {
   "cell_type": "code",
   "execution_count": 5,
   "id": "69f0b4df",
   "metadata": {},
   "outputs": [
    {
     "data": {
      "text/html": [
       "<div>\n",
       "<style scoped>\n",
       "    .dataframe tbody tr th:only-of-type {\n",
       "        vertical-align: middle;\n",
       "    }\n",
       "\n",
       "    .dataframe tbody tr th {\n",
       "        vertical-align: top;\n",
       "    }\n",
       "\n",
       "    .dataframe thead th {\n",
       "        text-align: right;\n",
       "    }\n",
       "</style>\n",
       "<table border=\"1\" class=\"dataframe\">\n",
       "  <thead>\n",
       "    <tr style=\"text-align: right;\">\n",
       "      <th></th>\n",
       "      <th>shop_name</th>\n",
       "      <th>shop_id</th>\n",
       "    </tr>\n",
       "  </thead>\n",
       "  <tbody>\n",
       "    <tr>\n",
       "      <th>0</th>\n",
       "      <td>!Якутск Орджоникидзе, 56 фран</td>\n",
       "      <td>0</td>\n",
       "    </tr>\n",
       "    <tr>\n",
       "      <th>1</th>\n",
       "      <td>!Якутск ТЦ \"Центральный\" фран</td>\n",
       "      <td>1</td>\n",
       "    </tr>\n",
       "    <tr>\n",
       "      <th>2</th>\n",
       "      <td>Адыгея ТЦ \"Мега\"</td>\n",
       "      <td>2</td>\n",
       "    </tr>\n",
       "    <tr>\n",
       "      <th>3</th>\n",
       "      <td>Балашиха ТРК \"Октябрь-Киномир\"</td>\n",
       "      <td>3</td>\n",
       "    </tr>\n",
       "    <tr>\n",
       "      <th>4</th>\n",
       "      <td>Волжский ТЦ \"Волга Молл\"</td>\n",
       "      <td>4</td>\n",
       "    </tr>\n",
       "  </tbody>\n",
       "</table>\n",
       "</div>"
      ],
      "text/plain": [
       "                        shop_name  shop_id\n",
       "0   !Якутск Орджоникидзе, 56 фран        0\n",
       "1   !Якутск ТЦ \"Центральный\" фран        1\n",
       "2                Адыгея ТЦ \"Мега\"        2\n",
       "3  Балашиха ТРК \"Октябрь-Киномир\"        3\n",
       "4        Волжский ТЦ \"Волга Молл\"        4"
      ]
     },
     "execution_count": 5,
     "metadata": {},
     "output_type": "execute_result"
    }
   ],
   "source": [
    "shops.head()"
   ]
  },
  {
   "cell_type": "markdown",
   "id": "d88a44b9",
   "metadata": {},
   "source": [
    "# Exploratory Data Analysis"
   ]
  },
  {
   "cell_type": "code",
   "execution_count": 6,
   "id": "602bd822",
   "metadata": {},
   "outputs": [
    {
     "data": {
      "image/png": "[encoded data removed]",
      "text/plain": [
       "<Figure size 1152x432 with 1 Axes>"
      ]
     },
     "metadata": {
      "needs_background": "light"
     },
     "output_type": "display_data"
    }
   ],
   "source": [
    "# Extract year and month data from the date column\n",
    "sales_train[\"date\"] = sales_train.date.apply(lambda x: datetime.strptime(x, '%d.%m.%Y'))\n",
    "sales_train['year'] = sales_train['date'].dt.year\n",
    "sales_train['month'] = sales_train['date'].dt.month\n",
    "sales_train.drop(['date'], axis=1, inplace=True)\n",
    "\n",
    "# Sum the number of sold items for each date_block_num (which is the consecutive month number from January 2013 to October 2015)\n",
    "group = sales_train.groupby('date_block_num').agg({'year':'first', 'month':'first', 'item_cnt_day':'sum'})\\\n",
    "       .rename(columns={'item_cnt_day':'item_cnt_month'}, inplace=False)\n",
    "group.reset_index(inplace=True)\n",
    "\n",
    "MONTHS = ['Jan', 'Feb', 'Mar', 'Apr', 'May', 'Jun', 'Jul', 'Aug', 'Sep', 'Oct', 'Nov', 'Dec']\n",
    "LINEWIDTH=2\n",
    "ALPHA=.6\n",
    "plt.figure(figsize= (16,6))\n",
    "#plot the Sales per month for each year\n",
    "plt.plot(MONTHS, group[group.year==2013].item_cnt_month , '-o', color='steelblue', linewidth=LINEWIDTH, alpha=ALPHA,label='2013')\n",
    "plt.plot(MONTHS, group[group.year==2014].item_cnt_month , '-o', color='seagreen', linewidth=LINEWIDTH, alpha=ALPHA,label='2014')\n",
    "plt.plot(MONTHS[:10], group[group.year==2015].item_cnt_month , '-o', color='maroon', linewidth=LINEWIDTH, alpha=ALPHA,label='2015')\n",
    "\n",
    "ax = plt.gca()\n",
    "ax.set_title('Sales per month')\n",
    "ax.set_ylabel('No of items')\n",
    "plt.legend(loc=2, title='Legend')\n",
    "plt.show()\n"
   ]
  },
  {
   "cell_type": "code",
   "execution_count": 7,
   "id": "492e900e",
   "metadata": {},
   "outputs": [
    {
     "data": {
      "text/plain": [
       "<AxesSubplot:xlabel='item_price'>"
      ]
     },
     "execution_count": 7,
     "metadata": {},
     "output_type": "execute_result"
    },
    {
     "data": {
      "image/png": "[encoded data removed]",
      "text/plain": [
       "<Figure size 720x288 with 1 Axes>"
      ]
     },
     "metadata": {
      "needs_background": "light"
     },
     "output_type": "display_data"
    },
    {
     "data": {
      "image/png": "[encoded data removed]",
      "text/plain": [
       "<Figure size 720x288 with 1 Axes>"
      ]
     },
     "metadata": {
      "needs_background": "light"
     },
     "output_type": "display_data"
    }
   ],
   "source": [
    "# plot boxplot to check for outliers in item_price and item_cnt_day\n",
    "plt.figure(figsize=(10,4))\n",
    "plt.xlim(-100, 3000)\n",
    "sns.boxplot(x= sales_train.item_cnt_day)\n",
    "\n",
    "plt.figure(figsize=(10,4))\n",
    "plt.xlim(sales_train.item_price.min(), sales_train.item_price.max()*1.1)\n",
    "sns.boxplot(x= sales_train.item_price)"
   ]
  },
  {
   "cell_type": "markdown",
   "id": "21a30d1d",
   "metadata": {},
   "source": [
    "# Data Preparation"
   ]
  },
  {
   "cell_type": "code",
   "execution_count": 8,
   "id": "e6316060",
   "metadata": {},
   "outputs": [],
   "source": [
    "\n",
    "from itertools import product\n",
    "train = []\n",
    "cols = ['date_block_num','shop_id','item_id' ]\n",
    "for i in range(34):\n",
    "    sales = sales_train[sales_train.date_block_num==i]\n",
    "    train.append(np.array(list(product([i], sales.shop_id.unique(), sales.item_id.unique())), dtype='int16'))\n",
    "    \n",
    "train = pd.DataFrame(np.vstack(train), columns=cols)\n",
    "train['date_block_num'] = train['date_block_num'].astype(np.int8)\n",
    "train['shop_id'] = train['shop_id'].astype(np.int8)\n",
    "train['item_id'] = train['item_id'].astype(np.int16)\n",
    "train.sort_values(cols,inplace=True)"
   ]
  },
  {
   "cell_type": "code",
   "execution_count": 9,
   "id": "460f5d8f",
   "metadata": {},
   "outputs": [],
   "source": [
    "train = pd.merge(train, sales_train, on = cols, how = 'left').fillna(0)"
   ]
  },
  {
   "cell_type": "code",
   "execution_count": 10,
   "id": "aac7b1cb",
   "metadata": {},
   "outputs": [],
   "source": [
    "# remove outliers from item_price and item_cnt_day columns\n",
    "train = train[train.item_price<100000]\n",
    "train = train[train.item_cnt_day<1001]"
   ]
  },
  {
   "cell_type": "markdown",
   "id": "02b2b32a",
   "metadata": {},
   "source": [
    "# Feature Engineering"
   ]
  },
  {
   "cell_type": "code",
   "execution_count": 11,
   "id": "554e39d3",
   "metadata": {},
   "outputs": [],
   "source": [
    "item_cat['split'] = item_cat['item_category_name'].str.split('-')\n",
    "item_cat['type'] = item_cat['split'].map(lambda x:x[0].strip() )\n",
    "item_cat['subtype'] = item_cat['split'].map(lambda x:   x[1].strip() + x[2].strip() if len(x) > 2 else x[1].strip()if len(x) > 1 else x[0].strip())\n",
    "item_cat['type_code'] = LabelEncoder().fit_transform(item_cat['type'])\n",
    "item_cat['subtype_code'] = LabelEncoder().fit_transform(item_cat['subtype'])\n",
    "item_cat = item_cat[['item_category_id','type_code', 'subtype_code']]"
   ]
  },
  {
   "cell_type": "code",
   "execution_count": 12,
   "id": "61ca2b19",
   "metadata": {},
   "outputs": [],
   "source": [
    "shops['city'] = shops['shop_name'].str.split(' ').map(lambda x: x[0])\n",
    "shops['city_code'] = LabelEncoder().fit_transform(shops['city'])\n",
    "shops = shops[['shop_id','city_code']]"
   ]
  },
  {
   "cell_type": "code",
   "execution_count": 13,
   "id": "8098a7cf",
   "metadata": {},
   "outputs": [],
   "source": [
    "train = pd.merge(train, shops, on=['shop_id'], how='left')\n",
    "\n",
    "train = pd.merge(train, items, on=['item_id'], how='left')\n",
    "train = pd.merge(train, item_cat, on=['item_category_id'], how='left')\n",
    "train['item_category_id'] = train['item_category_id'].astype(np.int8)\n",
    "train['type_code'] = train['type_code'].astype(np.int8)\n",
    "train['subtype_code'] = train['subtype_code'].astype(np.int8)"
   ]
  },
  {
   "cell_type": "code",
   "execution_count": 14,
   "id": "0f0d8c1a",
   "metadata": {},
   "outputs": [],
   "source": [
    "train['month'] = train['date_block_num'] % 12"
   ]
  },
  {
   "cell_type": "code",
   "execution_count": 15,
   "id": "f0c27b56",
   "metadata": {},
   "outputs": [],
   "source": [
    "train['total_item_sales'] = train['item_price']* train['item_cnt_day']"
   ]
  },
  {
   "cell_type": "code",
   "execution_count": 16,
   "id": "af20fbba",
   "metadata": {},
   "outputs": [],
   "source": [
    "train.drop([ 'year'], axis = 1, inplace = True)"
   ]
  },
  {
   "cell_type": "code",
   "execution_count": 17,
   "id": "3d35775d",
   "metadata": {},
   "outputs": [],
   "source": [
    "group = sales_train.groupby(['date_block_num','shop_id','item_id']).agg({'item_cnt_day': ['sum']})\n",
    "group.columns = ['item_cnt_month']\n",
    "group.reset_index(inplace=True)\n",
    "\n",
    "train = pd.merge(train, group, on=cols, how='left')\n",
    "train['item_cnt_month'] = (train['item_cnt_month']\n",
    "                                .fillna(0)\n",
    "                                .clip(0,20) \n",
    "                                .astype(np.float16))"
   ]
  },
  {
   "cell_type": "code",
   "execution_count": 18,
   "id": "9d28984b",
   "metadata": {},
   "outputs": [],
   "source": [
    "group = train.groupby(['date_block_num']).agg({'item_cnt_month': ['mean']})\n",
    "group.columns = [ 'date_avg_item_cnt' ]\n",
    "group.reset_index(inplace=True)\n",
    "\n",
    "train = pd.merge(train, group, on=['date_block_num'], how='left')\n",
    "train['date_avg_item_cnt'] = train['date_avg_item_cnt'].astype(np.float16)"
   ]
  },
  {
   "cell_type": "code",
   "execution_count": 19,
   "id": "a7ce72ba",
   "metadata": {},
   "outputs": [],
   "source": [
    "train[\"avg_item_cnt\"] = train[\"item_cnt_day\"].rolling(window = 3).mean().fillna(0)\n"
   ]
  },
  {
   "cell_type": "code",
   "execution_count": 20,
   "id": "82747ea8",
   "metadata": {},
   "outputs": [],
   "source": [
    "def lag_feature(df, lag_list, col):\n",
    "    for lag in lag_list:\n",
    "        ft_name = col+\"_lag_\"+str(lag)\n",
    "        df[ft_name] = train.sort_values('date_block_num').groupby(['shop_id', 'item_category_id', 'item_id'])[col].shift(lag)\n",
    "        df[ft_name].fillna(0, inplace=True)\n",
    "    return df"
   ]
  },
  {
   "cell_type": "code",
   "execution_count": 21,
   "id": "b277103a",
   "metadata": {},
   "outputs": [],
   "source": [
    "train = lag_feature(train, [1, 2, 3], 'item_cnt_month')"
   ]
  },
  {
   "cell_type": "markdown",
   "id": "4dc50dd0",
   "metadata": {},
   "source": [
    "# Mean Encoded Features"
   ]
  },
  {
   "cell_type": "code",
   "execution_count": 22,
   "id": "3da312fa",
   "metadata": {},
   "outputs": [],
   "source": [
    "group = train.groupby(['date_block_num', 'item_id']).agg({'item_cnt_month': ['mean']})\n",
    "group.columns = [ 'date_item_avg_item_cnt' ]\n",
    "group.reset_index(inplace=True)\n",
    "\n",
    "train = pd.merge(train, group, on=['date_block_num','item_id'], how='left')\n",
    "train['date_item_avg_item_cnt'] = train['date_item_avg_item_cnt'].astype(np.float16)\n",
    "train = lag_feature(train, [1,2,3,6,12], 'date_item_avg_item_cnt')"
   ]
  },
  {
   "cell_type": "code",
   "execution_count": 23,
   "id": "c5b62231",
   "metadata": {},
   "outputs": [],
   "source": [
    "group = train.groupby(['date_block_num', 'shop_id']).agg({'item_cnt_month': ['mean']})\n",
    "group.columns = [ 'date_shop_avg_item_cnt' ]\n",
    "group.reset_index(inplace=True)\n",
    "\n",
    "train = pd.merge(train, group, on=['date_block_num','shop_id'], how='left')\n",
    "train['date_shop_avg_item_cnt'] = train['date_shop_avg_item_cnt'].astype(np.float16)\n",
    "train = lag_feature(train, [1,2,3,6,12], 'date_shop_avg_item_cnt')"
   ]
  },
  {
   "cell_type": "code",
   "execution_count": 24,
   "id": "ba3b1f35",
   "metadata": {},
   "outputs": [],
   "source": [
    "group = train.groupby(['date_block_num', 'item_category_id']).agg({'item_cnt_month': ['mean']})\n",
    "group.columns = [ 'date_cat_avg_item_cnt' ]\n",
    "group.reset_index(inplace=True)\n",
    "\n",
    "train = pd.merge(train, group, on=['date_block_num','item_category_id'], how='left')\n",
    "train['date_cat_avg_item_cnt'] = train['date_cat_avg_item_cnt'].astype(np.float16)\n",
    "train = lag_feature(train, [1], 'date_cat_avg_item_cnt')"
   ]
  },
  {
   "cell_type": "code",
   "execution_count": 25,
   "id": "9ed800d0",
   "metadata": {},
   "outputs": [],
   "source": [
    "group = train.groupby([\"date_block_num\",\"type_code\"]).agg({\"item_cnt_month\": [\"mean\"]})\n",
    "group.columns = ['date_type_avg_item_cnt']\n",
    "group.reset_index(inplace = True)\n",
    "\n",
    "train = pd.merge(train, group, on=['date_block_num', 'type_code'], how='left')\n",
    "train['date_type_avg_item_cnt'] = train['date_type_avg_item_cnt'].astype(np.float16)\n",
    "train = lag_feature(train, [1], 'date_type_avg_item_cnt')"
   ]
  },
  {
   "cell_type": "code",
   "execution_count": 26,
   "id": "d3b855c9",
   "metadata": {},
   "outputs": [],
   "source": [
    "group = train.groupby([\"date_block_num\", \"subtype_code\"]).agg({\"item_cnt_month\": [\"mean\"]})\n",
    "group.columns = [\"date_subtype_avg_item_cnt\"]\n",
    "group.reset_index(inplace = True)\n",
    "\n",
    "train = pd.merge(train, group, on=['date_block_num', 'subtype_code'], how='left')\n",
    "train = lag_feature(train, [1], \"date_subtype_avg_item_cnt\")"
   ]
  },
  {
   "cell_type": "code",
   "execution_count": 27,
   "id": "9e4c18d7",
   "metadata": {},
   "outputs": [],
   "source": [
    "group = train.groupby(['date_block_num', 'item_id', 'city_code']).agg({'item_cnt_month': ['mean']})\n",
    "group.columns = [ 'date_item_city_avg_item_cnt' ]\n",
    "group.reset_index(inplace=True)\n",
    "train = pd.merge(train, group, on=['date_block_num', 'item_id', 'city_code'], how='left')\n",
    "train['date_item_city_avg_item_cnt'] = train['date_item_city_avg_item_cnt'].astype(np.float16)\n",
    "train = lag_feature(train, [1], 'date_item_city_avg_item_cnt')"
   ]
  },
  {
   "cell_type": "code",
   "execution_count": 28,
   "id": "16ce778d",
   "metadata": {},
   "outputs": [],
   "source": [
    "train.drop(['item_name','date_item_avg_item_cnt','date_shop_avg_item_cnt','date_cat_avg_item_cnt','date_type_avg_item_cnt',\"date_subtype_avg_item_cnt\",'date_item_city_avg_item_cnt'], axis = 1, inplace = True)"
   ]
  },
  {
   "cell_type": "code",
   "execution_count": 29,
   "id": "2ba24e43",
   "metadata": {},
   "outputs": [
    {
     "data": {
      "text/plain": [
       "Index(['date_block_num', 'shop_id', 'item_id', 'item_price', 'item_cnt_day',\n",
       "       'month', 'city_code', 'item_category_id', 'type_code', 'subtype_code',\n",
       "       'total_item_sales', 'item_cnt_month', 'date_avg_item_cnt',\n",
       "       'avg_item_cnt', 'item_cnt_month_lag_1', 'item_cnt_month_lag_2',\n",
       "       'item_cnt_month_lag_3', 'date_item_avg_item_cnt_lag_1',\n",
       "       'date_item_avg_item_cnt_lag_2', 'date_item_avg_item_cnt_lag_3',\n",
       "       'date_item_avg_item_cnt_lag_6', 'date_item_avg_item_cnt_lag_12',\n",
       "       'date_shop_avg_item_cnt_lag_1', 'date_shop_avg_item_cnt_lag_2',\n",
       "       'date_shop_avg_item_cnt_lag_3', 'date_shop_avg_item_cnt_lag_6',\n",
       "       'date_shop_avg_item_cnt_lag_12', 'date_cat_avg_item_cnt_lag_1',\n",
       "       'date_type_avg_item_cnt_lag_1', 'date_subtype_avg_item_cnt_lag_1',\n",
       "       'date_item_city_avg_item_cnt_lag_1'],\n",
       "      dtype='object')"
      ]
     },
     "execution_count": 29,
     "metadata": {},
     "output_type": "execute_result"
    }
   ],
   "source": [
    "train.columns"
   ]
  },
  {
   "cell_type": "code",
   "execution_count": 30,
   "id": "45fee2de",
   "metadata": {},
   "outputs": [
    {
     "data": {
      "text/html": [
       "<div>\n",
       "<style scoped>\n",
       "    .dataframe tbody tr th:only-of-type {\n",
       "        vertical-align: middle;\n",
       "    }\n",
       "\n",
       "    .dataframe tbody tr th {\n",
       "        vertical-align: top;\n",
       "    }\n",
       "\n",
       "    .dataframe thead th {\n",
       "        text-align: right;\n",
       "    }\n",
       "</style>\n",
       "<table border=\"1\" class=\"dataframe\">\n",
       "  <thead>\n",
       "    <tr style=\"text-align: right;\">\n",
       "      <th></th>\n",
       "      <th>date_block_num</th>\n",
       "      <th>shop_id</th>\n",
       "      <th>item_id</th>\n",
       "      <th>item_price</th>\n",
       "      <th>item_cnt_day</th>\n",
       "      <th>month</th>\n",
       "      <th>city_code</th>\n",
       "      <th>item_category_id</th>\n",
       "      <th>type_code</th>\n",
       "      <th>subtype_code</th>\n",
       "      <th>...</th>\n",
       "      <th>date_item_avg_item_cnt_lag_12</th>\n",
       "      <th>date_shop_avg_item_cnt_lag_1</th>\n",
       "      <th>date_shop_avg_item_cnt_lag_2</th>\n",
       "      <th>date_shop_avg_item_cnt_lag_3</th>\n",
       "      <th>date_shop_avg_item_cnt_lag_6</th>\n",
       "      <th>date_shop_avg_item_cnt_lag_12</th>\n",
       "      <th>date_cat_avg_item_cnt_lag_1</th>\n",
       "      <th>date_type_avg_item_cnt_lag_1</th>\n",
       "      <th>date_subtype_avg_item_cnt_lag_1</th>\n",
       "      <th>date_item_city_avg_item_cnt_lag_1</th>\n",
       "    </tr>\n",
       "  </thead>\n",
       "  <tbody>\n",
       "    <tr>\n",
       "      <th>0</th>\n",
       "      <td>0</td>\n",
       "      <td>0</td>\n",
       "      <td>19</td>\n",
       "      <td>0.0</td>\n",
       "      <td>0.0</td>\n",
       "      <td>0</td>\n",
       "      <td>0</td>\n",
       "      <td>40</td>\n",
       "      <td>11</td>\n",
       "      <td>6</td>\n",
       "      <td>...</td>\n",
       "      <td>0.0</td>\n",
       "      <td>0.000000</td>\n",
       "      <td>0.000000</td>\n",
       "      <td>0.000000</td>\n",
       "      <td>0.0</td>\n",
       "      <td>0.0</td>\n",
       "      <td>0.000000</td>\n",
       "      <td>0.000000</td>\n",
       "      <td>0.000000</td>\n",
       "      <td>0.000000</td>\n",
       "    </tr>\n",
       "    <tr>\n",
       "      <th>1</th>\n",
       "      <td>0</td>\n",
       "      <td>0</td>\n",
       "      <td>27</td>\n",
       "      <td>0.0</td>\n",
       "      <td>0.0</td>\n",
       "      <td>0</td>\n",
       "      <td>0</td>\n",
       "      <td>19</td>\n",
       "      <td>5</td>\n",
       "      <td>12</td>\n",
       "      <td>...</td>\n",
       "      <td>0.0</td>\n",
       "      <td>0.000000</td>\n",
       "      <td>0.000000</td>\n",
       "      <td>0.000000</td>\n",
       "      <td>0.0</td>\n",
       "      <td>0.0</td>\n",
       "      <td>0.000000</td>\n",
       "      <td>0.000000</td>\n",
       "      <td>0.000000</td>\n",
       "      <td>0.000000</td>\n",
       "    </tr>\n",
       "    <tr>\n",
       "      <th>2</th>\n",
       "      <td>0</td>\n",
       "      <td>0</td>\n",
       "      <td>28</td>\n",
       "      <td>0.0</td>\n",
       "      <td>0.0</td>\n",
       "      <td>0</td>\n",
       "      <td>0</td>\n",
       "      <td>30</td>\n",
       "      <td>8</td>\n",
       "      <td>57</td>\n",
       "      <td>...</td>\n",
       "      <td>0.0</td>\n",
       "      <td>0.000000</td>\n",
       "      <td>0.000000</td>\n",
       "      <td>0.000000</td>\n",
       "      <td>0.0</td>\n",
       "      <td>0.0</td>\n",
       "      <td>0.000000</td>\n",
       "      <td>0.000000</td>\n",
       "      <td>0.000000</td>\n",
       "      <td>0.000000</td>\n",
       "    </tr>\n",
       "    <tr>\n",
       "      <th>3</th>\n",
       "      <td>0</td>\n",
       "      <td>0</td>\n",
       "      <td>29</td>\n",
       "      <td>0.0</td>\n",
       "      <td>0.0</td>\n",
       "      <td>0</td>\n",
       "      <td>0</td>\n",
       "      <td>23</td>\n",
       "      <td>5</td>\n",
       "      <td>18</td>\n",
       "      <td>...</td>\n",
       "      <td>0.0</td>\n",
       "      <td>0.000000</td>\n",
       "      <td>0.000000</td>\n",
       "      <td>0.000000</td>\n",
       "      <td>0.0</td>\n",
       "      <td>0.0</td>\n",
       "      <td>0.000000</td>\n",
       "      <td>0.000000</td>\n",
       "      <td>0.000000</td>\n",
       "      <td>0.000000</td>\n",
       "    </tr>\n",
       "    <tr>\n",
       "      <th>4</th>\n",
       "      <td>0</td>\n",
       "      <td>0</td>\n",
       "      <td>32</td>\n",
       "      <td>221.0</td>\n",
       "      <td>2.0</td>\n",
       "      <td>0</td>\n",
       "      <td>0</td>\n",
       "      <td>40</td>\n",
       "      <td>11</td>\n",
       "      <td>6</td>\n",
       "      <td>...</td>\n",
       "      <td>0.0</td>\n",
       "      <td>2.398438</td>\n",
       "      <td>2.398438</td>\n",
       "      <td>2.398438</td>\n",
       "      <td>0.0</td>\n",
       "      <td>0.0</td>\n",
       "      <td>1.011719</td>\n",
       "      <td>0.861328</td>\n",
       "      <td>1.011719</td>\n",
       "      <td>6.601562</td>\n",
       "    </tr>\n",
       "  </tbody>\n",
       "</table>\n",
       "<p>5 rows × 31 columns</p>\n",
       "</div>"
      ],
      "text/plain": [
       "   date_block_num  shop_id  item_id  item_price  item_cnt_day  month  \\\n",
       "0               0        0       19         0.0           0.0      0   \n",
       "1               0        0       27         0.0           0.0      0   \n",
       "2               0        0       28         0.0           0.0      0   \n",
       "3               0        0       29         0.0           0.0      0   \n",
       "4               0        0       32       221.0           2.0      0   \n",
       "\n",
       "   city_code  item_category_id  type_code  subtype_code  ...  \\\n",
       "0          0                40         11             6  ...   \n",
       "1          0                19          5            12  ...   \n",
       "2          0                30          8            57  ...   \n",
       "3          0                23          5            18  ...   \n",
       "4          0                40         11             6  ...   \n",
       "\n",
       "   date_item_avg_item_cnt_lag_12  date_shop_avg_item_cnt_lag_1  \\\n",
       "0                            0.0                      0.000000   \n",
       "1                            0.0                      0.000000   \n",
       "2                            0.0                      0.000000   \n",
       "3                            0.0                      0.000000   \n",
       "4                            0.0                      2.398438   \n",
       "\n",
       "   date_shop_avg_item_cnt_lag_2  date_shop_avg_item_cnt_lag_3  \\\n",
       "0                      0.000000                      0.000000   \n",
       "1                      0.000000                      0.000000   \n",
       "2                      0.000000                      0.000000   \n",
       "3                      0.000000                      0.000000   \n",
       "4                      2.398438                      2.398438   \n",
       "\n",
       "   date_shop_avg_item_cnt_lag_6  date_shop_avg_item_cnt_lag_12  \\\n",
       "0                           0.0                            0.0   \n",
       "1                           0.0                            0.0   \n",
       "2                           0.0                            0.0   \n",
       "3                           0.0                            0.0   \n",
       "4                           0.0                            0.0   \n",
       "\n",
       "   date_cat_avg_item_cnt_lag_1  date_type_avg_item_cnt_lag_1  \\\n",
       "0                     0.000000                      0.000000   \n",
       "1                     0.000000                      0.000000   \n",
       "2                     0.000000                      0.000000   \n",
       "3                     0.000000                      0.000000   \n",
       "4                     1.011719                      0.861328   \n",
       "\n",
       "   date_subtype_avg_item_cnt_lag_1  date_item_city_avg_item_cnt_lag_1  \n",
       "0                         0.000000                           0.000000  \n",
       "1                         0.000000                           0.000000  \n",
       "2                         0.000000                           0.000000  \n",
       "3                         0.000000                           0.000000  \n",
       "4                         1.011719                           6.601562  \n",
       "\n",
       "[5 rows x 31 columns]"
      ]
     },
     "execution_count": 30,
     "metadata": {},
     "output_type": "execute_result"
    }
   ],
   "source": [
    "train.head()"
   ]
  },
  {
   "cell_type": "markdown",
   "id": "a54f359a",
   "metadata": {},
   "source": [
    "# Data Split"
   ]
  },
  {
   "cell_type": "code",
   "execution_count": 31,
   "id": "53624960",
   "metadata": {},
   "outputs": [],
   "source": [
    "X_train = train[train.date_block_num < 33].drop(['item_cnt_month'], axis=1)\n",
    "Y_train = train[train.date_block_num < 33]['item_cnt_month']\n",
    "X_valid = train[train.date_block_num == 33].drop(['item_cnt_month'], axis=1)\n",
    "Y_valid = train[train.date_block_num == 33]['item_cnt_month']\n",
    "X_test = train[train.date_block_num == 34].drop(['item_cnt_month'], axis=1)"
   ]
  },
  {
   "cell_type": "markdown",
   "id": "a6bb7cfa",
   "metadata": {},
   "source": [
    "# XGBoost"
   ]
  },
  {
   "cell_type": "code",
   "execution_count": 32,
   "id": "73dea419",
   "metadata": {},
   "outputs": [],
   "source": [
    "import xgboost as xgb\n",
    "from sklearn.metrics import mean_squared_error"
   ]
  },
  {
   "cell_type": "code",
   "execution_count": null,
   "id": "486909b0",
   "metadata": {},
   "outputs": [],
   "source": [
    "xg_reg = xgb.XGBRegressor(objective ='reg:linear', colsample_bytree = 0.3, learning_rate = 0.1,\n",
    "                max_depth = 8, alpha = 10, n_estimators = 100, seed = 42)\n",
    "xg_reg.fit(X_train,Y_train, eval_set=[(X_train, Y_train), (X_valid, Y_valid)],eval_metric=\"rmse\",early_stopping_rounds = 10 )\n",
    "\n",
    "preds = xg_reg.predict(X_test)"
   ]
  },
  {
   "cell_type": "code",
   "execution_count": null,
   "id": "b1c797e0",
   "metadata": {},
   "outputs": [],
   "source": []
  }
 ],
 "metadata": {
  "kernelspec": {
   "display_name": "Python 3",
   "language": "python",
   "name": "python3"
  },
  "language_info": {
   "codemirror_mode": {
    "name": "ipython",
    "version": 3
   },
   "file_extension": ".py",
   "mimetype": "text/x-python",
   "name": "python",
   "nbconvert_exporter": "python",
   "pygments_lexer": "ipython3",
   "version": "3.8.10"
  }
 },
 "nbformat": 4,
 "nbformat_minor": 5
}
